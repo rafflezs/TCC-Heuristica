{
 "cells": [
  {
   "cell_type": "code",
   "execution_count": 2,
   "id": "57285150-941c-4677-966c-f0ecea363193",
   "metadata": {},
   "outputs": [],
   "source": [
    "import pandas as pd"
   ]
  },
  {
   "cell_type": "code",
   "execution_count": 4,
   "id": "d8eaa133-ec42-49cb-b3a2-87cab7a4bc06",
   "metadata": {},
   "outputs": [],
   "source": [
    "df = pd.read_excel(\"../../data/og-sol/TCC-Instancia-20181.xls\")"
   ]
  },
  {
   "cell_type": "code",
   "execution_count": 6,
   "id": "0780ca3b-946c-4a6a-843d-510241b59f36",
   "metadata": {},
   "outputs": [
    {
     "data": {
      "text/plain": [
       "0      [SEX 10:20~12:00 SEX 13:30~15:09]\n",
       "1      [QUA 13:30~15:09 QUA 15:20~16:09]\n",
       "2                      [SEG 15:20~17:50]\n",
       "3                      [SEX 15:20~17:50]\n",
       "4                      [QUA 16:10~17:50]\n",
       "                     ...                \n",
       "589    [QUA 13:30~15:09 QUA 15:20~16:09]\n",
       "590    [SEG 13:30~15:09 SEG 15:20~16:59]\n",
       "591    [TER 13:30~15:09 TER 15:20~16:59]\n",
       "592                    [QUI 13:30~15:09]\n",
       "593    [SEX 13:30~15:09 SEX 15:20~16:59]\n",
       "Name: HORáRIOS, Length: 594, dtype: object"
      ]
     },
     "metadata": {},
     "output_type": "display_data"
    }
   ],
   "source": [
    "display(df['HORáRIOS'])"
   ]
  },
  {
   "cell_type": "code",
   "execution_count": null,
   "id": "88cf3b12-a2ee-4554-8f73-0f023afd421c",
   "metadata": {},
   "outputs": [],
   "source": []
  }
 ],
 "metadata": {
  "kernelspec": {
   "display_name": "Python 3 (ipykernel)",
   "language": "python",
   "name": "python3"
  },
  "language_info": {
   "codemirror_mode": {
    "name": "ipython",
    "version": 3
   },
   "file_extension": ".py",
   "mimetype": "text/x-python",
   "name": "python",
   "nbconvert_exporter": "python",
   "pygments_lexer": "ipython3",
   "version": "3.11.4"
  }
 },
 "nbformat": 4,
 "nbformat_minor": 5
}
